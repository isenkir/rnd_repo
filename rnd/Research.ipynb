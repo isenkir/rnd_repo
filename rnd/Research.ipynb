{
 "cells": [
  {
   "cell_type": "code",
   "execution_count": null,
   "outputs": [],
   "source": [
    "import numpy as np\n",
    "import dlib\n",
    "import cv2\n",
    "import matplotlib.pyplot as plt\n",
    "from PIL import Image\n",
    "import statistics"
   ],
   "metadata": {
    "collapsed": false
   }
  },
  {
   "cell_type": "code",
   "execution_count": null,
   "outputs": [],
   "source": [
    "detector = dlib.get_frontal_face_detector()\n",
    "predictor = dlib.shape_predictor('shape_predictor_68_face_landmarks.dat')"
   ],
   "metadata": {
    "collapsed": false
   }
  },
  {
   "cell_type": "code",
   "execution_count": null,
   "outputs": [],
   "source": [
    "def glasses_detector(path):\n",
    "\n",
    "    img = dlib.load_rgb_image(path)\n",
    "\n",
    "    if len(detector(img))==0:\n",
    "        return('No face detected')\n",
    "    rect = detector(img)[0]\n",
    "    sp = predictor(img, rect)\n",
    "    landmarks = np.array([[p.x, p.y] for p in sp.parts()])\n",
    "\n",
    "    nose_bridge_x = []\n",
    "    nose_bridge_y = []\n",
    "\n",
    "    for i in [28,29,30,31,33,34,35]:\n",
    "        nose_bridge_x.append(landmarks[i][0])\n",
    "        nose_bridge_y.append(landmarks[i][1])\n",
    "\n",
    "    ### x_min and x_max\n",
    "    x_min = min(nose_bridge_x)\n",
    "    x_max = max(nose_bridge_x)\n",
    "\n",
    "    ### ymin (from top eyebrow coordinate),  ymax\n",
    "    y_min = landmarks[20][1]\n",
    "    y_max = landmarks[30][1]\n",
    "\n",
    "    img2 = Image.open(path)\n",
    "    img2 = img2.crop((x_min,y_min,x_max,y_max))\n",
    "\n",
    "    img_blur = cv2.GaussianBlur(np.array(img2),(3,3), sigmaX=0, sigmaY=0)\n",
    "\n",
    "    edges = cv2.Canny(image =img_blur, threshold1=100, threshold2=200)\n",
    "\n",
    "    edges_center = edges.T[(int(len(edges.T)/2))]\n",
    "\n",
    "    if 255 in edges_center:\n",
    "        return(1)\n",
    "    else:\n",
    "        return(0)"
   ],
   "metadata": {
    "collapsed": false
   }
  }
 ],
 "metadata": {
  "kernelspec": {
   "display_name": "Python 3",
   "language": "python",
   "name": "python3"
  },
  "language_info": {
   "codemirror_mode": {
    "name": "ipython",
    "version": 2
   },
   "file_extension": ".py",
   "mimetype": "text/x-python",
   "name": "python",
   "nbconvert_exporter": "python",
   "pygments_lexer": "ipython2",
   "version": "2.7.6"
  }
 },
 "nbformat": 4,
 "nbformat_minor": 0
}
